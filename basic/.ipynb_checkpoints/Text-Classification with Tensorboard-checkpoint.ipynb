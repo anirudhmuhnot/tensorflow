{
 "cells": [
  {
   "cell_type": "code",
   "execution_count": 17,
   "metadata": {},
   "outputs": [],
   "source": [
    "import tensorflow as tf\n",
    "from tensorflow import keras"
   ]
  },
  {
   "cell_type": "code",
   "execution_count": 18,
   "metadata": {},
   "outputs": [],
   "source": [
    "import numpy as np"
   ]
  },
  {
   "cell_type": "code",
   "execution_count": 19,
   "metadata": {},
   "outputs": [
    {
     "name": "stdout",
     "output_type": "stream",
     "text": [
      "1.4.0\n"
     ]
    }
   ],
   "source": [
    "print(tf.__version__)"
   ]
  },
  {
   "cell_type": "code",
   "execution_count": 20,
   "metadata": {},
   "outputs": [],
   "source": [
    "imdb = keras.datasets.imdb"
   ]
  },
  {
   "cell_type": "code",
   "execution_count": 21,
   "metadata": {},
   "outputs": [],
   "source": [
    "(train_data,train_labels),(test_data,test_labels) = imdb.load_data(num_words=10000)"
   ]
  },
  {
   "cell_type": "code",
   "execution_count": 22,
   "metadata": {},
   "outputs": [],
   "source": [
    "word_index = imdb.get_word_index()"
   ]
  },
  {
   "cell_type": "code",
   "execution_count": 23,
   "metadata": {},
   "outputs": [
    {
     "data": {
      "text/plain": [
       "('tsukino', 52006)"
      ]
     },
     "execution_count": 23,
     "metadata": {},
     "output_type": "execute_result"
    }
   ],
   "source": [
    "list(word_index.items())[1]"
   ]
  },
  {
   "cell_type": "code",
   "execution_count": 24,
   "metadata": {},
   "outputs": [],
   "source": [
    "word_index = {k:(v+3) for k,v in word_index.items()}"
   ]
  },
  {
   "cell_type": "code",
   "execution_count": 25,
   "metadata": {},
   "outputs": [],
   "source": [
    "word_index[\"<PAD>\"] = 0\n",
    "word_index[\"<START>\"] = 1\n",
    "word_index[\"<UNK>\"] = 2\n",
    "word_index[\"<UNUSED>\"] = 3\n",
    "reverse_word_index = dict([(v,k) for (k,v) in word_index.items()])"
   ]
  },
  {
   "cell_type": "code",
   "execution_count": 26,
   "metadata": {},
   "outputs": [],
   "source": [
    "def decode_review(text):\n",
    "    return ' '.join([reverse_word_index.get(i,'?') for i in text])"
   ]
  },
  {
   "cell_type": "code",
   "execution_count": 29,
   "metadata": {},
   "outputs": [
    {
     "data": {
      "text/plain": [
       "\"<START> this film was just brilliant casting location scenery story direction everyone's really suited the part they played and you could just imagine being there robert <UNK> is an amazing actor and now the same being director <UNK> father came from the same scottish island as myself so i loved the fact there was a real connection with this film the witty remarks throughout the film were great it was just brilliant so much that i bought the film as soon as it was released for <UNK> and would recommend it to everyone to watch and the fly fishing was amazing really cried at the end it was so sad and you know what they say if you cry at a film it must have been good and this definitely was also <UNK> to the two little boy's that played the <UNK> of norman and paul they were just brilliant children are often left out of the <UNK> list i think because the stars that play them all grown up are such a big profile for the whole film but these children are amazing and should be praised for what they have done don't you think the whole story was so lovely because it was true and was someone's life after all that was shared with us all <PAD> <PAD> <PAD> <PAD> <PAD> <PAD> <PAD> <PAD> <PAD> <PAD> <PAD> <PAD> <PAD> <PAD> <PAD> <PAD> <PAD> <PAD> <PAD> <PAD> <PAD> <PAD> <PAD> <PAD> <PAD> <PAD> <PAD> <PAD> <PAD> <PAD> <PAD> <PAD> <PAD> <PAD> <PAD> <PAD> <PAD> <PAD>\""
      ]
     },
     "execution_count": 29,
     "metadata": {},
     "output_type": "execute_result"
    }
   ],
   "source": [
    "decode_review(train_data[0])"
   ]
  },
  {
   "cell_type": "code",
   "execution_count": 28,
   "metadata": {},
   "outputs": [],
   "source": [
    "train_data = keras.preprocessing.sequence.pad_sequences(train_data,\n",
    "value=word_index[\"<PAD>\"],padding='post',maxlen=256)"
   ]
  },
  {
   "cell_type": "code",
   "execution_count": 30,
   "metadata": {},
   "outputs": [],
   "source": [
    "test_data = keras.preprocessing.sequence.pad_sequences(test_data,\n",
    "value=word_index[\"<PAD>\"],padding='post',maxlen=256)"
   ]
  },
  {
   "cell_type": "code",
   "execution_count": 33,
   "metadata": {},
   "outputs": [
    {
     "data": {
      "text/plain": [
       "256"
      ]
     },
     "execution_count": 33,
     "metadata": {},
     "output_type": "execute_result"
    }
   ],
   "source": [
    "len(train_data[0])"
   ]
  },
  {
   "cell_type": "code",
   "execution_count": 34,
   "metadata": {},
   "outputs": [
    {
     "data": {
      "text/plain": [
       "256"
      ]
     },
     "execution_count": 34,
     "metadata": {},
     "output_type": "execute_result"
    }
   ],
   "source": [
    "len(train_data[1])"
   ]
  },
  {
   "cell_type": "code",
   "execution_count": 38,
   "metadata": {},
   "outputs": [
    {
     "data": {
      "text/plain": [
       "88588"
      ]
     },
     "execution_count": 38,
     "metadata": {},
     "output_type": "execute_result"
    }
   ],
   "source": [
    "len(word_index)"
   ]
  },
  {
   "cell_type": "code",
   "execution_count": 37,
   "metadata": {},
   "outputs": [],
   "source": [
    "model = keras.models.Sequential()"
   ]
  },
  {
   "cell_type": "code",
   "execution_count": 39,
   "metadata": {},
   "outputs": [],
   "source": [
    "vocab_size = 10000\n",
    "model.add(keras.layers.Embedding(vocab_size,16))\n",
    "model.add(keras.layers.GlobalAveragePooling1D())\n",
    "model.add(keras.layers.Dense(16,activation=tf.nn.relu))\n",
    "model.add(keras.layers.Dense(1,activation=tf.nn.sigmoid))"
   ]
  },
  {
   "cell_type": "code",
   "execution_count": 40,
   "metadata": {},
   "outputs": [
    {
     "name": "stdout",
     "output_type": "stream",
     "text": [
      "_________________________________________________________________\n",
      "Layer (type)                 Output Shape              Param #   \n",
      "=================================================================\n",
      "embedding_1 (Embedding)      (None, None, 16)          160000    \n",
      "_________________________________________________________________\n",
      "global_average_pooling1d_1 ( (None, 16)                0         \n",
      "_________________________________________________________________\n",
      "dense_1 (Dense)              (None, 16)                272       \n",
      "_________________________________________________________________\n",
      "dense_2 (Dense)              (None, 1)                 17        \n",
      "=================================================================\n",
      "Total params: 160,289\n",
      "Trainable params: 160,289\n",
      "Non-trainable params: 0\n",
      "_________________________________________________________________\n"
     ]
    }
   ],
   "source": [
    "model.summary()"
   ]
  },
  {
   "cell_type": "code",
   "execution_count": 41,
   "metadata": {},
   "outputs": [],
   "source": [
    "model.compile(optimizer=tf.train.AdamOptimizer(),\n",
    "             loss='binary_crossentropy',metrics=['accuracy'])"
   ]
  },
  {
   "cell_type": "code",
   "execution_count": 43,
   "metadata": {},
   "outputs": [],
   "source": [
    "x_val = train_data[:10000]\n",
    "partial_x_train = train_data[10000:]\n",
    "y_val = train_labels[:10000]\n",
    "partial_y_train = train_labels[10000:]"
   ]
  },
  {
   "cell_type": "code",
   "execution_count": 48,
   "metadata": {},
   "outputs": [],
   "source": [
    "tb = keras.callbacks.TensorBoard(log_dir='Graph/text_class/',histogram_freq=0\n",
    "                           ,write_graph=True,write_images=True)"
   ]
  },
  {
   "cell_type": "code",
   "execution_count": 49,
   "metadata": {},
   "outputs": [
    {
     "name": "stdout",
     "output_type": "stream",
     "text": [
      "Train on 15000 samples, validate on 10000 samples\n",
      "Epoch 1/40\n",
      "15000/15000 [==============================] - 1s - loss: 0.3613 - acc: 0.8737 - val_loss: 0.3916 - val_acc: 0.8489\n",
      "Epoch 2/40\n",
      "15000/15000 [==============================] - 1s - loss: 0.3438 - acc: 0.8793 - val_loss: 0.3774 - val_acc: 0.8570\n",
      "Epoch 3/40\n",
      "15000/15000 [==============================] - 1s - loss: 0.3275 - acc: 0.8854 - val_loss: 0.3657 - val_acc: 0.8588\n",
      "Epoch 4/40\n",
      "15000/15000 [==============================] - 1s - loss: 0.3135 - acc: 0.8908 - val_loss: 0.3557 - val_acc: 0.8626\n",
      "Epoch 5/40\n",
      "15000/15000 [==============================] - 1s - loss: 0.3011 - acc: 0.8943 - val_loss: 0.3473 - val_acc: 0.8641\n",
      "Epoch 6/40\n",
      "15000/15000 [==============================] - 1s - loss: 0.2896 - acc: 0.8969 - val_loss: 0.3395 - val_acc: 0.8675\n",
      "Epoch 7/40\n",
      "15000/15000 [==============================] - 1s - loss: 0.2788 - acc: 0.9025 - val_loss: 0.3336 - val_acc: 0.8678\n",
      "Epoch 8/40\n",
      "15000/15000 [==============================] - 1s - loss: 0.2697 - acc: 0.9047 - val_loss: 0.3272 - val_acc: 0.8714\n",
      "Epoch 9/40\n",
      "15000/15000 [==============================] - 1s - loss: 0.2606 - acc: 0.9077 - val_loss: 0.3221 - val_acc: 0.8742\n",
      "Epoch 10/40\n",
      "15000/15000 [==============================] - 1s - loss: 0.2528 - acc: 0.9100 - val_loss: 0.3180 - val_acc: 0.8733\n",
      "Epoch 11/40\n",
      "15000/15000 [==============================] - 1s - loss: 0.2442 - acc: 0.9141 - val_loss: 0.3138 - val_acc: 0.8754\n",
      "Epoch 12/40\n",
      "15000/15000 [==============================] - 1s - loss: 0.2372 - acc: 0.9154 - val_loss: 0.3109 - val_acc: 0.8776\n",
      "Epoch 13/40\n",
      "15000/15000 [==============================] - 1s - loss: 0.2307 - acc: 0.9176 - val_loss: 0.3071 - val_acc: 0.8782\n",
      "Epoch 14/40\n",
      "15000/15000 [==============================] - 1s - loss: 0.2241 - acc: 0.9213 - val_loss: 0.3044 - val_acc: 0.8791\n",
      "Epoch 15/40\n",
      "15000/15000 [==============================] - 1s - loss: 0.2185 - acc: 0.9211 - val_loss: 0.3019 - val_acc: 0.8795\n",
      "Epoch 16/40\n",
      "15000/15000 [==============================] - 1s - loss: 0.2124 - acc: 0.9241 - val_loss: 0.2999 - val_acc: 0.8803\n",
      "Epoch 17/40\n",
      "15000/15000 [==============================] - 1s - loss: 0.2072 - acc: 0.9280 - val_loss: 0.2979 - val_acc: 0.8805\n",
      "Epoch 18/40\n",
      "15000/15000 [==============================] - 1s - loss: 0.2021 - acc: 0.9298 - val_loss: 0.2975 - val_acc: 0.8806\n",
      "Epoch 19/40\n",
      "15000/15000 [==============================] - 1s - loss: 0.1966 - acc: 0.9319 - val_loss: 0.2951 - val_acc: 0.8805\n",
      "Epoch 20/40\n",
      "15000/15000 [==============================] - 1s - loss: 0.1911 - acc: 0.9346 - val_loss: 0.2935 - val_acc: 0.8815\n",
      "Epoch 21/40\n",
      "15000/15000 [==============================] - 1s - loss: 0.1866 - acc: 0.9367 - val_loss: 0.2925 - val_acc: 0.8823\n",
      "Epoch 22/40\n",
      "15000/15000 [==============================] - 1s - loss: 0.1819 - acc: 0.9382 - val_loss: 0.2949 - val_acc: 0.8795\n",
      "Epoch 23/40\n",
      "15000/15000 [==============================] - 1s - loss: 0.1786 - acc: 0.9388 - val_loss: 0.2908 - val_acc: 0.8829\n",
      "Epoch 24/40\n",
      "15000/15000 [==============================] - 1s - loss: 0.1736 - acc: 0.9425 - val_loss: 0.2904 - val_acc: 0.8827\n",
      "Epoch 25/40\n",
      "15000/15000 [==============================] - 1s - loss: 0.1696 - acc: 0.9443 - val_loss: 0.2900 - val_acc: 0.8834\n",
      "Epoch 26/40\n",
      "15000/15000 [==============================] - 1s - loss: 0.1657 - acc: 0.9461 - val_loss: 0.2899 - val_acc: 0.8822\n",
      "Epoch 27/40\n",
      "15000/15000 [==============================] - 1s - loss: 0.1618 - acc: 0.9482 - val_loss: 0.2895 - val_acc: 0.8835\n",
      "Epoch 28/40\n",
      "15000/15000 [==============================] - 1s - loss: 0.1581 - acc: 0.9493 - val_loss: 0.2918 - val_acc: 0.8819\n",
      "Epoch 29/40\n",
      "15000/15000 [==============================] - 1s - loss: 0.1547 - acc: 0.9505 - val_loss: 0.2895 - val_acc: 0.8835\n",
      "Epoch 30/40\n",
      "15000/15000 [==============================] - 1s - loss: 0.1511 - acc: 0.9525 - val_loss: 0.2897 - val_acc: 0.8838\n",
      "Epoch 31/40\n",
      "15000/15000 [==============================] - 1s - loss: 0.1476 - acc: 0.9541 - val_loss: 0.2906 - val_acc: 0.8836\n",
      "Epoch 32/40\n",
      "15000/15000 [==============================] - 1s - loss: 0.1445 - acc: 0.9555 - val_loss: 0.2902 - val_acc: 0.8849\n",
      "Epoch 33/40\n",
      "15000/15000 [==============================] - 1s - loss: 0.1412 - acc: 0.9565 - val_loss: 0.2948 - val_acc: 0.8824\n",
      "Epoch 34/40\n",
      "15000/15000 [==============================] - 1s - loss: 0.1392 - acc: 0.9563 - val_loss: 0.2913 - val_acc: 0.8837\n",
      "Epoch 35/40\n",
      "15000/15000 [==============================] - 1s - loss: 0.1350 - acc: 0.9585 - val_loss: 0.2919 - val_acc: 0.8837\n",
      "Epoch 36/40\n",
      "15000/15000 [==============================] - 1s - loss: 0.1322 - acc: 0.9607 - val_loss: 0.2946 - val_acc: 0.8826\n",
      "Epoch 37/40\n",
      "15000/15000 [==============================] - 1s - loss: 0.1294 - acc: 0.9617 - val_loss: 0.2948 - val_acc: 0.8833\n",
      "Epoch 38/40\n",
      "15000/15000 [==============================] - 1s - loss: 0.1266 - acc: 0.9629 - val_loss: 0.2952 - val_acc: 0.8846\n",
      "Epoch 39/40\n",
      "15000/15000 [==============================] - 1s - loss: 0.1239 - acc: 0.9633 - val_loss: 0.2954 - val_acc: 0.8847\n",
      "Epoch 40/40\n",
      "15000/15000 [==============================] - 1s - loss: 0.1216 - acc: 0.9651 - val_loss: 0.2977 - val_acc: 0.8841\n"
     ]
    }
   ],
   "source": [
    "history = model.fit(partial_x_train,partial_y_train,\n",
    "                   epochs=40,\n",
    "                   batch_size=512,\n",
    "                   validation_data=(x_val,y_val),\n",
    "                   verbose=1,\n",
    "                   callbacks=[tb])"
   ]
  },
  {
   "cell_type": "code",
   "execution_count": null,
   "metadata": {},
   "outputs": [],
   "source": []
  }
 ],
 "metadata": {
  "kernelspec": {
   "display_name": "Python 3",
   "language": "python",
   "name": "python3"
  },
  "language_info": {
   "codemirror_mode": {
    "name": "ipython",
    "version": 3
   },
   "file_extension": ".py",
   "mimetype": "text/x-python",
   "name": "python",
   "nbconvert_exporter": "python",
   "pygments_lexer": "ipython3",
   "version": "3.6.5"
  }
 },
 "nbformat": 4,
 "nbformat_minor": 2
}
