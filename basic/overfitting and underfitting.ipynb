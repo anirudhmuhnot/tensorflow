{
 "cells": [
  {
   "cell_type": "code",
   "execution_count": 13,
   "metadata": {},
   "outputs": [
    {
     "name": "stdout",
     "output_type": "stream",
     "text": [
      "1.4.0\n"
     ]
    }
   ],
   "source": [
    "#to prevent overfitting use more training data. \n",
    "#train for appropriate number od epochs\n",
    "#use regularization\n",
    "#Regularization can lead to under fitting\n",
    "#regularization puts a constrain on thr quantity and type of information you store\n",
    "#if a network can only afford to adapt to a small numer of patterns, the regulariztion will help it focus on the most prominent pattern.\n",
    "#weight regulariztion and dropout.\n",
    "\n",
    "import tensorflow as tf\n",
    "from tensorflow import keras\n",
    "import numpy as np\n",
    "print(tf.__version__)\n",
    "import matplotlib.pyplot as plt"
   ]
  },
  {
   "cell_type": "code",
   "execution_count": 14,
   "metadata": {},
   "outputs": [],
   "source": [
    "#using multi-hot encoding will lead to overfitting on IMDB Reviews dataset\n",
    "\n",
    "NUM_WORDS = 10000\n",
    "(train_data,train_labels),(test_data,test_labels) = keras.datasets.imdb.load_data(num_words=NUM_WORDS)"
   ]
  },
  {
   "cell_type": "code",
   "execution_count": 15,
   "metadata": {},
   "outputs": [],
   "source": [
    "def multi_hot_sequences(sequences, dimension):\n",
    "    results = np.zeros((len(sequences),dimension))\n",
    "    for i,word_indices in enumerate(sequences):\n",
    "        results[i,word_indices]=1.0\n",
    "    return results\n",
    "\n",
    "train_data = multi_hot_sequences(train_data,dimension=NUM_WORDS) \n",
    "test_data = multi_hot_sequences(test_data,dimension=NUM_WORDS)"
   ]
  },
  {
   "cell_type": "code",
   "execution_count": 16,
   "metadata": {},
   "outputs": [],
   "source": [
    "#overfitting can also be prevented by decreasing the learnt parameters\n",
    "#number of learnable parameters is also reffered to as model's capacity\n",
    "#so clearly, a model with more parameters will have more memorization capacity\n",
    "#with deep learning the problem is not training but generalization\n",
    "#start with few layers, then increase"
   ]
  },
  {
   "cell_type": "code",
   "execution_count": 17,
   "metadata": {},
   "outputs": [],
   "source": [
    "baseline_model = keras.models.Sequential([\n",
    "    keras.layers.Dense(16,activation=tf.nn.relu,input_shape=(NUM_WORDS,)),\n",
    "    keras.layers.Dense(16,activation=tf.nn.relu),\n",
    "    keras.layers.Dense(1,activation=tf.nn.sigmoid)\n",
    "])\n",
    "baseline_model.compile(optimizer='adam',loss='binary_crossentropy',metrics=['accuracy','binary_crossentropy'])"
   ]
  },
  {
   "cell_type": "code",
   "execution_count": 18,
   "metadata": {},
   "outputs": [
    {
     "name": "stdout",
     "output_type": "stream",
     "text": [
      "_________________________________________________________________\n",
      "Layer (type)                 Output Shape              Param #   \n",
      "=================================================================\n",
      "dense_7 (Dense)              (None, 16)                160016    \n",
      "_________________________________________________________________\n",
      "dense_8 (Dense)              (None, 16)                272       \n",
      "_________________________________________________________________\n",
      "dense_9 (Dense)              (None, 1)                 17        \n",
      "=================================================================\n",
      "Total params: 160,305\n",
      "Trainable params: 160,305\n",
      "Non-trainable params: 0\n",
      "_________________________________________________________________\n"
     ]
    }
   ],
   "source": [
    "baseline_model.summary()"
   ]
  },
  {
   "cell_type": "code",
   "execution_count": 19,
   "metadata": {},
   "outputs": [],
   "source": [
    "baseline_model.compile(optimizer='adam',loss='binary_crossentropy',metrics=['accuracy','binary_crossentropy'])"
   ]
  },
  {
   "cell_type": "code",
   "execution_count": 20,
   "metadata": {},
   "outputs": [
    {
     "name": "stdout",
     "output_type": "stream",
     "text": [
      "Train on 25000 samples, validate on 25000 samples\n",
      "Epoch 1/20\n",
      "25000/25000 [==============================] - 10s - loss: 0.4836 - acc: 0.8080 - binary_crossentropy: 0.4836 - val_loss: 0.3378 - val_acc: 0.8737 - val_binary_crossentropy: 0.3378\n",
      "Epoch 2/20\n",
      "25000/25000 [==============================] - 10s - loss: 0.2482 - acc: 0.9104 - binary_crossentropy: 0.2482 - val_loss: 0.2871 - val_acc: 0.8854 - val_binary_crossentropy: 0.2871\n",
      "Epoch 3/20\n",
      "25000/25000 [==============================] - 10s - loss: 0.1834 - acc: 0.9350 - binary_crossentropy: 0.1834 - val_loss: 0.2878 - val_acc: 0.8854 - val_binary_crossentropy: 0.2878\n",
      "Epoch 4/20\n",
      "25000/25000 [==============================] - 11s - loss: 0.1466 - acc: 0.9495 - binary_crossentropy: 0.1466 - val_loss: 0.3113 - val_acc: 0.8799 - val_binary_crossentropy: 0.3113\n",
      "Epoch 5/20\n",
      "25000/25000 [==============================] - 10s - loss: 0.1215 - acc: 0.9601 - binary_crossentropy: 0.1215 - val_loss: 0.3373 - val_acc: 0.8762 - val_binary_crossentropy: 0.3373\n",
      "Epoch 6/20\n",
      "25000/25000 [==============================] - 10s - loss: 0.1016 - acc: 0.9676 - binary_crossentropy: 0.1016 - val_loss: 0.3707 - val_acc: 0.8714 - val_binary_crossentropy: 0.3707\n",
      "Epoch 7/20\n",
      "25000/25000 [==============================] - 9s - loss: 0.0858 - acc: 0.9732 - binary_crossentropy: 0.0858 - val_loss: 0.4129 - val_acc: 0.8666 - val_binary_crossentropy: 0.4129\n",
      "Epoch 8/20\n",
      "25000/25000 [==============================] - 11s - loss: 0.0717 - acc: 0.9790 - binary_crossentropy: 0.0717 - val_loss: 0.4489 - val_acc: 0.8624 - val_binary_crossentropy: 0.4489\n",
      "Epoch 9/20\n",
      "25000/25000 [==============================] - 10s - loss: 0.0598 - acc: 0.9847 - binary_crossentropy: 0.0598 - val_loss: 0.4899 - val_acc: 0.8606 - val_binary_crossentropy: 0.4899\n",
      "Epoch 10/20\n",
      "25000/25000 [==============================] - 10s - loss: 0.0491 - acc: 0.9885 - binary_crossentropy: 0.0491 - val_loss: 0.5396 - val_acc: 0.8561 - val_binary_crossentropy: 0.5396\n",
      "Epoch 11/20\n",
      "25000/25000 [==============================] - 10s - loss: 0.0408 - acc: 0.9914 - binary_crossentropy: 0.0408 - val_loss: 0.5785 - val_acc: 0.8564 - val_binary_crossentropy: 0.5785\n",
      "Epoch 12/20\n",
      "25000/25000 [==============================] - 10s - loss: 0.0316 - acc: 0.9944 - binary_crossentropy: 0.0316 - val_loss: 0.6255 - val_acc: 0.8531 - val_binary_crossentropy: 0.6255\n",
      "Epoch 13/20\n",
      "25000/25000 [==============================] - 9s - loss: 0.0240 - acc: 0.9966 - binary_crossentropy: 0.0240 - val_loss: 0.6713 - val_acc: 0.8524 - val_binary_crossentropy: 0.6713\n",
      "Epoch 14/20\n",
      "25000/25000 [==============================] - 11s - loss: 0.0183 - acc: 0.9977 - binary_crossentropy: 0.0183 - val_loss: 0.7149 - val_acc: 0.8516 - val_binary_crossentropy: 0.7149\n",
      "Epoch 15/20\n",
      "25000/25000 [==============================] - 10s - loss: 0.0143 - acc: 0.9985 - binary_crossentropy: 0.0143 - val_loss: 0.7558 - val_acc: 0.8496 - val_binary_crossentropy: 0.7558\n",
      "Epoch 16/20\n",
      "25000/25000 [==============================] - 11s - loss: 0.0102 - acc: 0.9994 - binary_crossentropy: 0.0102 - val_loss: 0.7917 - val_acc: 0.8500 - val_binary_crossentropy: 0.7917\n",
      "Epoch 17/20\n",
      "25000/25000 [==============================] - 10s - loss: 0.0076 - acc: 0.9998 - binary_crossentropy: 0.0076 - val_loss: 0.8242 - val_acc: 0.8493 - val_binary_crossentropy: 0.8242\n",
      "Epoch 18/20\n",
      "25000/25000 [==============================] - 11s - loss: 0.0060 - acc: 0.9999 - binary_crossentropy: 0.0060 - val_loss: 0.8536 - val_acc: 0.8494 - val_binary_crossentropy: 0.8536\n",
      "Epoch 19/20\n",
      "25000/25000 [==============================] - 11s - loss: 0.0047 - acc: 1.0000 - binary_crossentropy: 0.0047 - val_loss: 0.8815 - val_acc: 0.8488 - val_binary_crossentropy: 0.8815\n",
      "Epoch 20/20\n",
      "25000/25000 [==============================] - 10s - loss: 0.0038 - acc: 1.0000 - binary_crossentropy: 0.0038 - val_loss: 0.9076 - val_acc: 0.8483 - val_binary_crossentropy: 0.9076\n"
     ]
    }
   ],
   "source": [
    "tb = keras.callbacks.TensorBoard(log_dir='Graph/over_/baseline')\n",
    "baseline_history = baseline_model.fit(train_data,train_labels,epochs=20,batch_size=512\n",
    "                                  ,validation_data=(test_data,test_labels),verbose=1,callbacks=[tb])"
   ]
  },
  {
   "cell_type": "code",
   "execution_count": 21,
   "metadata": {},
   "outputs": [],
   "source": [
    "bigger_model = keras.models.Sequential([\n",
    "    keras.layers.Dense(512,activation=tf.nn.relu,input_shape=(NUM_WORDS,)),\n",
    "    keras.layers.Dense(512,activation=tf.nn.relu),\n",
    "    keras.layers.Dense(1,activation=tf.nn.sigmoid)\n",
    "])\n",
    "bigger_model.compile(optimizer='adam',loss='binary_crossentropy',metrics=['accuracy','binary_crossentropy'])"
   ]
  },
  {
   "cell_type": "code",
   "execution_count": 23,
   "metadata": {},
   "outputs": [
    {
     "name": "stdout",
     "output_type": "stream",
     "text": [
      "_________________________________________________________________\n",
      "Layer (type)                 Output Shape              Param #   \n",
      "=================================================================\n",
      "dense_10 (Dense)             (None, 512)               5120512   \n",
      "_________________________________________________________________\n",
      "dense_11 (Dense)             (None, 512)               262656    \n",
      "_________________________________________________________________\n",
      "dense_12 (Dense)             (None, 1)                 513       \n",
      "=================================================================\n",
      "Total params: 5,383,681\n",
      "Trainable params: 5,383,681\n",
      "Non-trainable params: 0\n",
      "_________________________________________________________________\n"
     ]
    }
   ],
   "source": [
    "bigger_model.summary()"
   ]
  },
  {
   "cell_type": "code",
   "execution_count": 24,
   "metadata": {},
   "outputs": [
    {
     "name": "stdout",
     "output_type": "stream",
     "text": [
      "Train on 25000 samples, validate on 25000 samples\n",
      "Epoch 1/20\n",
      "25000/25000 [==============================] - 40s - loss: 0.3494 - acc: 0.8505 - binary_crossentropy: 0.3494 - val_loss: 0.2965 - val_acc: 0.8787 - val_binary_crossentropy: 0.2965\n",
      "Epoch 2/20\n",
      "25000/25000 [==============================] - 37s - loss: 0.1457 - acc: 0.9470 - binary_crossentropy: 0.1457 - val_loss: 0.3618 - val_acc: 0.8670 - val_binary_crossentropy: 0.3618\n",
      "Epoch 3/20\n",
      "25000/25000 [==============================] - 39s - loss: 0.0566 - acc: 0.9826 - binary_crossentropy: 0.0566 - val_loss: 0.4309 - val_acc: 0.8702 - val_binary_crossentropy: 0.4309\n",
      "Epoch 4/20\n",
      "25000/25000 [==============================] - 40s - loss: 0.0090 - acc: 0.9984 - binary_crossentropy: 0.0090 - val_loss: 0.5629 - val_acc: 0.8706 - val_binary_crossentropy: 0.5629\n",
      "Epoch 5/20\n",
      "25000/25000 [==============================] - 38s - loss: 0.0016 - acc: 1.0000 - binary_crossentropy: 0.0016 - val_loss: 0.6577 - val_acc: 0.8724 - val_binary_crossentropy: 0.6577\n",
      "Epoch 6/20\n",
      "25000/25000 [==============================] - 37s - loss: 3.1427e-04 - acc: 1.0000 - binary_crossentropy: 3.1427e-04 - val_loss: 0.7129 - val_acc: 0.8722 - val_binary_crossentropy: 0.7129\n",
      "Epoch 7/20\n",
      "25000/25000 [==============================] - 42s - loss: 5.0008e-04 - acc: 1.0000 - binary_crossentropy: 5.0008e-04 - val_loss: 0.7332 - val_acc: 0.8728 - val_binary_crossentropy: 0.7332\n",
      "Epoch 8/20\n",
      "25000/25000 [==============================] - 38s - loss: 3.0427e-04 - acc: 1.0000 - binary_crossentropy: 3.0427e-04 - val_loss: 0.7611 - val_acc: 0.8711 - val_binary_crossentropy: 0.7611\n",
      "Epoch 9/20\n",
      "25000/25000 [==============================] - 37s - loss: 3.0381e-04 - acc: 1.0000 - binary_crossentropy: 3.0381e-04 - val_loss: 0.7853 - val_acc: 0.8699 - val_binary_crossentropy: 0.7853\n",
      "Epoch 10/20\n",
      "25000/25000 [==============================] - 37s - loss: 7.8015e-05 - acc: 1.0000 - binary_crossentropy: 7.8015e-05 - val_loss: 0.7851 - val_acc: 0.8722 - val_binary_crossentropy: 0.7851\n",
      "Epoch 11/20\n",
      "25000/25000 [==============================] - 38s - loss: 5.6329e-05 - acc: 1.0000 - binary_crossentropy: 5.6329e-05 - val_loss: 0.7992 - val_acc: 0.8724 - val_binary_crossentropy: 0.7992\n",
      "Epoch 12/20\n",
      "25000/25000 [==============================] - 43s - loss: 4.4855e-05 - acc: 1.0000 - binary_crossentropy: 4.4855e-05 - val_loss: 0.8123 - val_acc: 0.8724 - val_binary_crossentropy: 0.8123\n",
      "Epoch 13/20\n",
      "25000/25000 [==============================] - 41s - loss: 3.6889e-05 - acc: 1.0000 - binary_crossentropy: 3.6889e-05 - val_loss: 0.8229 - val_acc: 0.8726 - val_binary_crossentropy: 0.8229\n",
      "Epoch 14/20\n",
      "25000/25000 [==============================] - 43s - loss: 3.0919e-05 - acc: 1.0000 - binary_crossentropy: 3.0919e-05 - val_loss: 0.8321 - val_acc: 0.8727 - val_binary_crossentropy: 0.8321\n",
      "Epoch 15/20\n",
      "25000/25000 [==============================] - 41s - loss: 2.6411e-05 - acc: 1.0000 - binary_crossentropy: 2.6411e-05 - val_loss: 0.8410 - val_acc: 0.8726 - val_binary_crossentropy: 0.8410\n",
      "Epoch 16/20\n",
      "25000/25000 [==============================] - 38s - loss: 2.2772e-05 - acc: 1.0000 - binary_crossentropy: 2.2772e-05 - val_loss: 0.8486 - val_acc: 0.8729 - val_binary_crossentropy: 0.8486\n",
      "Epoch 17/20\n",
      "25000/25000 [==============================] - 37s - loss: 1.9853e-05 - acc: 1.0000 - binary_crossentropy: 1.9853e-05 - val_loss: 0.8566 - val_acc: 0.8725 - val_binary_crossentropy: 0.8566\n",
      "Epoch 18/20\n",
      "25000/25000 [==============================] - 44s - loss: 1.7433e-05 - acc: 1.0000 - binary_crossentropy: 1.7433e-05 - val_loss: 0.8635 - val_acc: 0.8725 - val_binary_crossentropy: 0.8635\n",
      "Epoch 19/20\n",
      "25000/25000 [==============================] - 43s - loss: 1.5425e-05 - acc: 1.0000 - binary_crossentropy: 1.5425e-05 - val_loss: 0.8702 - val_acc: 0.8725 - val_binary_crossentropy: 0.8702\n",
      "Epoch 20/20\n",
      "25000/25000 [==============================] - 40s - loss: 1.3724e-05 - acc: 1.0000 - binary_crossentropy: 1.3724e-05 - val_loss: 0.8766 - val_acc: 0.8726 - val_binary_crossentropy: 0.8766\n"
     ]
    }
   ],
   "source": [
    "tb = keras.callbacks.TensorBoard(log_dir='Graph/over_/bigger')\n",
    "bigger_history = bigger_model.fit(train_data,train_labels,epochs=20,batch_size=512\n",
    "                                  ,validation_data=(test_data,test_labels),verbose=1,callbacks=[tb])"
   ]
  },
  {
   "cell_type": "code",
   "execution_count": 40,
   "metadata": {},
   "outputs": [],
   "source": [
    "smaller_model = keras.models.Sequential([\n",
    "    keras.layers.Dense(4,activation=tf.nn.relu,input_shape=(NUM_WORDS,)),\n",
    "    keras.layers.Dense(4,activation=tf.nn.relu),\n",
    "    keras.layers.Dense(1,activation=tf.nn.sigmoid)\n",
    "])\n",
    "smaller_model.compile(optimizer='adam',loss='binary_crossentropy',metrics=['accuracy','binary_crossentropy'])"
   ]
  },
  {
   "cell_type": "code",
   "execution_count": 41,
   "metadata": {},
   "outputs": [
    {
     "name": "stdout",
     "output_type": "stream",
     "text": [
      "_________________________________________________________________\n",
      "Layer (type)                 Output Shape              Param #   \n",
      "=================================================================\n",
      "dense_25 (Dense)             (None, 4)                 40004     \n",
      "_________________________________________________________________\n",
      "dense_26 (Dense)             (None, 4)                 20        \n",
      "_________________________________________________________________\n",
      "dense_27 (Dense)             (None, 1)                 5         \n",
      "=================================================================\n",
      "Total params: 40,029\n",
      "Trainable params: 40,029\n",
      "Non-trainable params: 0\n",
      "_________________________________________________________________\n"
     ]
    }
   ],
   "source": [
    "smaller_model.summary()"
   ]
  },
  {
   "cell_type": "code",
   "execution_count": 42,
   "metadata": {},
   "outputs": [
    {
     "name": "stdout",
     "output_type": "stream",
     "text": [
      "Train on 25000 samples, validate on 25000 samples\n",
      "Epoch 1/20\n",
      "25000/25000 [==============================] - 11s - loss: 0.6630 - acc: 0.6246 - binary_crossentropy: 0.6630 - val_loss: 0.6278 - val_acc: 0.7027 - val_binary_crossentropy: 0.6278\n",
      "Epoch 2/20\n",
      "25000/25000 [==============================] - 11s - loss: 0.5798 - acc: 0.7645 - binary_crossentropy: 0.5798 - val_loss: 0.5508 - val_acc: 0.8282 - val_binary_crossentropy: 0.5508\n",
      "Epoch 3/20\n",
      "25000/25000 [==============================] - 9s - loss: 0.4770 - acc: 0.8620 - binary_crossentropy: 0.4770 - val_loss: 0.4412 - val_acc: 0.8642 - val_binary_crossentropy: 0.4412\n",
      "Epoch 4/20\n",
      "25000/25000 [==============================] - 9s - loss: 0.3535 - acc: 0.9019 - binary_crossentropy: 0.3535 - val_loss: 0.3499 - val_acc: 0.8811 - val_binary_crossentropy: 0.3499\n",
      "Epoch 5/20\n",
      "25000/25000 [==============================] - 9s - loss: 0.2708 - acc: 0.9183 - binary_crossentropy: 0.2708 - val_loss: 0.3076 - val_acc: 0.8856 - val_binary_crossentropy: 0.3076\n",
      "Epoch 6/20\n",
      "25000/25000 [==============================] - 9s - loss: 0.2256 - acc: 0.9280 - binary_crossentropy: 0.2256 - val_loss: 0.2896 - val_acc: 0.8884 - val_binary_crossentropy: 0.2896\n",
      "Epoch 7/20\n",
      "25000/25000 [==============================] - 9s - loss: 0.1970 - acc: 0.9364 - binary_crossentropy: 0.1970 - val_loss: 0.2850 - val_acc: 0.8878 - val_binary_crossentropy: 0.2850\n",
      "Epoch 8/20\n",
      "25000/25000 [==============================] - 9s - loss: 0.1768 - acc: 0.9426 - binary_crossentropy: 0.1768 - val_loss: 0.2826 - val_acc: 0.8886 - val_binary_crossentropy: 0.2826\n",
      "Epoch 9/20\n",
      "25000/25000 [==============================] - 8s - loss: 0.1608 - acc: 0.9484 - binary_crossentropy: 0.1608 - val_loss: 0.2858 - val_acc: 0.8871 - val_binary_crossentropy: 0.2858\n",
      "Epoch 10/20\n",
      "25000/25000 [==============================] - 9s - loss: 0.1473 - acc: 0.9528 - binary_crossentropy: 0.1473 - val_loss: 0.2913 - val_acc: 0.8850 - val_binary_crossentropy: 0.2913\n",
      "Epoch 11/20\n",
      "25000/25000 [==============================] - 9s - loss: 0.1362 - acc: 0.9566 - binary_crossentropy: 0.1362 - val_loss: 0.3005 - val_acc: 0.8831 - val_binary_crossentropy: 0.3005\n",
      "Epoch 12/20\n",
      "25000/25000 [==============================] - 9s - loss: 0.1264 - acc: 0.9610 - binary_crossentropy: 0.1264 - val_loss: 0.3070 - val_acc: 0.8819 - val_binary_crossentropy: 0.3070\n",
      "Epoch 13/20\n",
      "25000/25000 [==============================] - 9s - loss: 0.1173 - acc: 0.9645 - binary_crossentropy: 0.1173 - val_loss: 0.3158 - val_acc: 0.8812 - val_binary_crossentropy: 0.3158\n",
      "Epoch 14/20\n",
      "25000/25000 [==============================] - 9s - loss: 0.1094 - acc: 0.9676 - binary_crossentropy: 0.1094 - val_loss: 0.3277 - val_acc: 0.8780 - val_binary_crossentropy: 0.3277\n",
      "Epoch 15/20\n",
      "25000/25000 [==============================] - 9s - loss: 0.1028 - acc: 0.9699 - binary_crossentropy: 0.1028 - val_loss: 0.3402 - val_acc: 0.8764 - val_binary_crossentropy: 0.3402\n",
      "Epoch 16/20\n",
      "25000/25000 [==============================] - 9s - loss: 0.0964 - acc: 0.9726 - binary_crossentropy: 0.0964 - val_loss: 0.3482 - val_acc: 0.8758 - val_binary_crossentropy: 0.3482\n",
      "Epoch 17/20\n",
      "25000/25000 [==============================] - 8s - loss: 0.0901 - acc: 0.9753 - binary_crossentropy: 0.0901 - val_loss: 0.3631 - val_acc: 0.8735 - val_binary_crossentropy: 0.3631\n",
      "Epoch 18/20\n",
      "25000/25000 [==============================] - 9s - loss: 0.0842 - acc: 0.9772 - binary_crossentropy: 0.0842 - val_loss: 0.3735 - val_acc: 0.8727 - val_binary_crossentropy: 0.3735\n",
      "Epoch 19/20\n",
      "25000/25000 [==============================] - 8s - loss: 0.0784 - acc: 0.9806 - binary_crossentropy: 0.0784 - val_loss: 0.3864 - val_acc: 0.8711 - val_binary_crossentropy: 0.3864\n",
      "Epoch 20/20\n",
      "25000/25000 [==============================] - 9s - loss: 0.0733 - acc: 0.9824 - binary_crossentropy: 0.0733 - val_loss: 0.4011 - val_acc: 0.8687 - val_binary_crossentropy: 0.4011\n"
     ]
    }
   ],
   "source": [
    "tb = keras.callbacks.TensorBoard(log_dir='Graph/over_/smaller')\n",
    "smaller_history = smaller_model.fit(train_data,train_labels,\n",
    "                                    validation_data=(test_data,test_labels),\n",
    "                                    epochs=20,batch_size=512,\n",
    "                                    verbose=1,callbacks=[tb])"
   ]
  },
  {
   "cell_type": "code",
   "execution_count": 43,
   "metadata": {},
   "outputs": [],
   "source": [
    "l2_model = keras.models.Sequential([\n",
    "    keras.layers.Dense(16,kernel_regularizer=keras.regularizers.l2(0.001),activation=tf.nn.relu,input_shape=(NUM_WORDS,)),\n",
    "    keras.layers.Dense(16,kernel_regularizer=keras.regularizers.l2(0.001),activation=tf.nn.relu),\n",
    "    keras.layers.Dense(1,activation=tf.nn.sigmoid)\n",
    "])\n",
    "l2_model.compile(optimizer='adam',loss='binary_crossentropy',metrics=['accuracy','binary_crossentropy'])"
   ]
  },
  {
   "cell_type": "code",
   "execution_count": 44,
   "metadata": {},
   "outputs": [
    {
     "name": "stdout",
     "output_type": "stream",
     "text": [
      "_________________________________________________________________\n",
      "Layer (type)                 Output Shape              Param #   \n",
      "=================================================================\n",
      "dense_28 (Dense)             (None, 16)                160016    \n",
      "_________________________________________________________________\n",
      "dense_29 (Dense)             (None, 16)                272       \n",
      "_________________________________________________________________\n",
      "dense_30 (Dense)             (None, 1)                 17        \n",
      "=================================================================\n",
      "Total params: 160,305\n",
      "Trainable params: 160,305\n",
      "Non-trainable params: 0\n",
      "_________________________________________________________________\n"
     ]
    }
   ],
   "source": [
    "l2_model.summary()"
   ]
  },
  {
   "cell_type": "code",
   "execution_count": 45,
   "metadata": {},
   "outputs": [
    {
     "name": "stdout",
     "output_type": "stream",
     "text": [
      "Train on 25000 samples, validate on 25000 samples\n",
      "Epoch 1/20\n",
      "25000/25000 [==============================] - 9s - loss: 0.5225 - acc: 0.8092 - binary_crossentropy: 0.4814 - val_loss: 0.3799 - val_acc: 0.8796 - val_binary_crossentropy: 0.3349\n",
      "Epoch 2/20\n",
      "25000/25000 [==============================] - 9s - loss: 0.3063 - acc: 0.9096 - binary_crossentropy: 0.2564 - val_loss: 0.3392 - val_acc: 0.8864 - val_binary_crossentropy: 0.2860\n",
      "Epoch 3/20\n",
      "25000/25000 [==============================] - 9s - loss: 0.2578 - acc: 0.9286 - binary_crossentropy: 0.2019 - val_loss: 0.3419 - val_acc: 0.8849 - val_binary_crossentropy: 0.2843\n",
      "Epoch 4/20\n",
      "25000/25000 [==============================] - 9s - loss: 0.2354 - acc: 0.9399 - binary_crossentropy: 0.1760 - val_loss: 0.3542 - val_acc: 0.8812 - val_binary_crossentropy: 0.2939\n",
      "Epoch 5/20\n",
      "25000/25000 [==============================] - 9s - loss: 0.2208 - acc: 0.9464 - binary_crossentropy: 0.1593 - val_loss: 0.3723 - val_acc: 0.8765 - val_binary_crossentropy: 0.3101\n",
      "Epoch 6/20\n",
      "25000/25000 [==============================] - 9s - loss: 0.2122 - acc: 0.9479 - binary_crossentropy: 0.1489 - val_loss: 0.3806 - val_acc: 0.8762 - val_binary_crossentropy: 0.3168\n",
      "Epoch 7/20\n",
      "25000/25000 [==============================] - 9s - loss: 0.2041 - acc: 0.9513 - binary_crossentropy: 0.1398 - val_loss: 0.3953 - val_acc: 0.8718 - val_binary_crossentropy: 0.3305\n",
      "Epoch 8/20\n",
      "25000/25000 [==============================] - 9s - loss: 0.1962 - acc: 0.9572 - binary_crossentropy: 0.1308 - val_loss: 0.4098 - val_acc: 0.8694 - val_binary_crossentropy: 0.3441\n",
      "Epoch 9/20\n",
      "25000/25000 [==============================] - 9s - loss: 0.1915 - acc: 0.9575 - binary_crossentropy: 0.1255 - val_loss: 0.4219 - val_acc: 0.8683 - val_binary_crossentropy: 0.3557\n",
      "Epoch 10/20\n",
      "25000/25000 [==============================] - 9s - loss: 0.1884 - acc: 0.9582 - binary_crossentropy: 0.1214 - val_loss: 0.4447 - val_acc: 0.8642 - val_binary_crossentropy: 0.3774\n",
      "Epoch 11/20\n",
      "25000/25000 [==============================] - 9s - loss: 0.1849 - acc: 0.9605 - binary_crossentropy: 0.1173 - val_loss: 0.4603 - val_acc: 0.8617 - val_binary_crossentropy: 0.3922\n",
      "Epoch 12/20\n",
      "25000/25000 [==============================] - 9s - loss: 0.1850 - acc: 0.9590 - binary_crossentropy: 0.1162 - val_loss: 0.4609 - val_acc: 0.8623 - val_binary_crossentropy: 0.3916\n",
      "Epoch 13/20\n",
      "25000/25000 [==============================] - 9s - loss: 0.1769 - acc: 0.9633 - binary_crossentropy: 0.1075 - val_loss: 0.4639 - val_acc: 0.8627 - val_binary_crossentropy: 0.3948\n",
      "Epoch 14/20\n",
      "25000/25000 [==============================] - 9s - loss: 0.1758 - acc: 0.9634 - binary_crossentropy: 0.1068 - val_loss: 0.4750 - val_acc: 0.8607 - val_binary_crossentropy: 0.4057\n",
      "Epoch 15/20\n",
      "25000/25000 [==============================] - 9s - loss: 0.1709 - acc: 0.9651 - binary_crossentropy: 0.1010 - val_loss: 0.4912 - val_acc: 0.8598 - val_binary_crossentropy: 0.4211\n",
      "Epoch 16/20\n",
      "25000/25000 [==============================] - 10s - loss: 0.1679 - acc: 0.9663 - binary_crossentropy: 0.0980 - val_loss: 0.4959 - val_acc: 0.8595 - val_binary_crossentropy: 0.4262\n",
      "Epoch 17/20\n",
      "25000/25000 [==============================] - 9s - loss: 0.1685 - acc: 0.9660 - binary_crossentropy: 0.0985 - val_loss: 0.5183 - val_acc: 0.8566 - val_binary_crossentropy: 0.4475\n",
      "Epoch 18/20\n",
      "25000/25000 [==============================] - 9s - loss: 0.1706 - acc: 0.9644 - binary_crossentropy: 0.0992 - val_loss: 0.5276 - val_acc: 0.8548 - val_binary_crossentropy: 0.4556\n",
      "Epoch 19/20\n",
      "25000/25000 [==============================] - 9s - loss: 0.1618 - acc: 0.9692 - binary_crossentropy: 0.0899 - val_loss: 0.5258 - val_acc: 0.8570 - val_binary_crossentropy: 0.4544\n",
      "Epoch 20/20\n",
      "25000/25000 [==============================] - 9s - loss: 0.1568 - acc: 0.9712 - binary_crossentropy: 0.0855 - val_loss: 0.5338 - val_acc: 0.8573 - val_binary_crossentropy: 0.4626\n"
     ]
    },
    {
     "data": {
      "text/plain": [
       "<tensorflow.python.keras._impl.keras.callbacks.History at 0xc302cdb70>"
      ]
     },
     "execution_count": 45,
     "metadata": {},
     "output_type": "execute_result"
    }
   ],
   "source": [
    "tb = keras.callbacks.TensorBoard(log_dir='Graph/over_/l2')\n",
    "l2_model.fit(train_data,train_labels,epochs=20,batch_size=512\n",
    "                                  ,validation_data=(test_data,test_labels),verbose=1,callbacks=[tb])"
   ]
  },
  {
   "cell_type": "code",
   "execution_count": 46,
   "metadata": {},
   "outputs": [],
   "source": [
    "dropout_model = keras.models.Sequential([\n",
    "    keras.layers.Dense(16,activation=tf.nn.relu,input_shape=(NUM_WORDS,)),\n",
    "    keras.layers.Dropout(0.5),\n",
    "    keras.layers.Dense(16,activation=tf.nn.relu),\n",
    "    keras.layers.Dropout(0.5),\n",
    "    keras.layers.Dense(1,activation=tf.nn.sigmoid)\n",
    "])\n",
    "dropout_model.compile(optimizer='adam',loss='binary_crossentropy',metrics=['accuracy','binary_crossentropy'])"
   ]
  },
  {
   "cell_type": "code",
   "execution_count": 47,
   "metadata": {},
   "outputs": [
    {
     "name": "stdout",
     "output_type": "stream",
     "text": [
      "_________________________________________________________________\n",
      "Layer (type)                 Output Shape              Param #   \n",
      "=================================================================\n",
      "dense_31 (Dense)             (None, 16)                160016    \n",
      "_________________________________________________________________\n",
      "dropout_3 (Dropout)          (None, 16)                0         \n",
      "_________________________________________________________________\n",
      "dense_32 (Dense)             (None, 16)                272       \n",
      "_________________________________________________________________\n",
      "dropout_4 (Dropout)          (None, 16)                0         \n",
      "_________________________________________________________________\n",
      "dense_33 (Dense)             (None, 1)                 17        \n",
      "=================================================================\n",
      "Total params: 160,305\n",
      "Trainable params: 160,305\n",
      "Non-trainable params: 0\n",
      "_________________________________________________________________\n"
     ]
    }
   ],
   "source": [
    "dropout_model.summary()"
   ]
  },
  {
   "cell_type": "code",
   "execution_count": 48,
   "metadata": {},
   "outputs": [
    {
     "name": "stdout",
     "output_type": "stream",
     "text": [
      "Train on 25000 samples, validate on 25000 samples\n",
      "Epoch 1/20\n",
      "25000/25000 [==============================] - 9s - loss: 0.6400 - acc: 0.6199 - binary_crossentropy: 0.6400 - val_loss: 0.5236 - val_acc: 0.8363 - val_binary_crossentropy: 0.5236\n",
      "Epoch 2/20\n",
      "25000/25000 [==============================] - 9s - loss: 0.4916 - acc: 0.7878 - binary_crossentropy: 0.4916 - val_loss: 0.3765 - val_acc: 0.8794 - val_binary_crossentropy: 0.3765\n",
      "Epoch 3/20\n",
      "25000/25000 [==============================] - 9s - loss: 0.3909 - acc: 0.8540 - binary_crossentropy: 0.3909 - val_loss: 0.3187 - val_acc: 0.8854 - val_binary_crossentropy: 0.3187\n",
      "Epoch 4/20\n",
      "25000/25000 [==============================] - 9s - loss: 0.3307 - acc: 0.8864 - binary_crossentropy: 0.3307 - val_loss: 0.2916 - val_acc: 0.8866 - val_binary_crossentropy: 0.2916\n",
      "Epoch 5/20\n",
      "25000/25000 [==============================] - 9s - loss: 0.2926 - acc: 0.9043 - binary_crossentropy: 0.2926 - val_loss: 0.2818 - val_acc: 0.8868 - val_binary_crossentropy: 0.2818\n",
      "Epoch 6/20\n",
      "25000/25000 [==============================] - 9s - loss: 0.2568 - acc: 0.9172 - binary_crossentropy: 0.2568 - val_loss: 0.2831 - val_acc: 0.8879 - val_binary_crossentropy: 0.2831\n",
      "Epoch 7/20\n",
      "25000/25000 [==============================] - 9s - loss: 0.2304 - acc: 0.9261 - binary_crossentropy: 0.2304 - val_loss: 0.2893 - val_acc: 0.8863 - val_binary_crossentropy: 0.2893\n",
      "Epoch 8/20\n",
      "25000/25000 [==============================] - 9s - loss: 0.2080 - acc: 0.9318 - binary_crossentropy: 0.2080 - val_loss: 0.3049 - val_acc: 0.8803 - val_binary_crossentropy: 0.3049\n",
      "Epoch 9/20\n",
      "25000/25000 [==============================] - 9s - loss: 0.1867 - acc: 0.9418 - binary_crossentropy: 0.1867 - val_loss: 0.3194 - val_acc: 0.8824 - val_binary_crossentropy: 0.3194\n",
      "Epoch 10/20\n",
      "25000/25000 [==============================] - 9s - loss: 0.1688 - acc: 0.9463 - binary_crossentropy: 0.1688 - val_loss: 0.3389 - val_acc: 0.8813 - val_binary_crossentropy: 0.3389\n",
      "Epoch 11/20\n",
      "25000/25000 [==============================] - 9s - loss: 0.1553 - acc: 0.9514 - binary_crossentropy: 0.1553 - val_loss: 0.3633 - val_acc: 0.8804 - val_binary_crossentropy: 0.3633\n",
      "Epoch 12/20\n",
      "25000/25000 [==============================] - 9s - loss: 0.1415 - acc: 0.9528 - binary_crossentropy: 0.1415 - val_loss: 0.3812 - val_acc: 0.8805 - val_binary_crossentropy: 0.3812\n",
      "Epoch 13/20\n",
      "25000/25000 [==============================] - 9s - loss: 0.1345 - acc: 0.9552 - binary_crossentropy: 0.1345 - val_loss: 0.4186 - val_acc: 0.8794 - val_binary_crossentropy: 0.4186\n",
      "Epoch 14/20\n",
      "25000/25000 [==============================] - 9s - loss: 0.1214 - acc: 0.9576 - binary_crossentropy: 0.1214 - val_loss: 0.4310 - val_acc: 0.8774 - val_binary_crossentropy: 0.4310\n",
      "Epoch 15/20\n",
      "25000/25000 [==============================] - 9s - loss: 0.1113 - acc: 0.9624 - binary_crossentropy: 0.1113 - val_loss: 0.4499 - val_acc: 0.8762 - val_binary_crossentropy: 0.4499\n",
      "Epoch 16/20\n",
      "25000/25000 [==============================] - 9s - loss: 0.1042 - acc: 0.9641 - binary_crossentropy: 0.1042 - val_loss: 0.4782 - val_acc: 0.8762 - val_binary_crossentropy: 0.4782\n",
      "Epoch 17/20\n",
      "25000/25000 [==============================] - 9s - loss: 0.0999 - acc: 0.9638 - binary_crossentropy: 0.0999 - val_loss: 0.5003 - val_acc: 0.8776 - val_binary_crossentropy: 0.5003\n",
      "Epoch 18/20\n",
      "25000/25000 [==============================] - 9s - loss: 0.0927 - acc: 0.9659 - binary_crossentropy: 0.0927 - val_loss: 0.5301 - val_acc: 0.8749 - val_binary_crossentropy: 0.5301\n",
      "Epoch 19/20\n",
      "25000/25000 [==============================] - 9s - loss: 0.0903 - acc: 0.9678 - binary_crossentropy: 0.0903 - val_loss: 0.5213 - val_acc: 0.8756 - val_binary_crossentropy: 0.5213\n",
      "Epoch 20/20\n",
      "25000/25000 [==============================] - 9s - loss: 0.0850 - acc: 0.9692 - binary_crossentropy: 0.0850 - val_loss: 0.5604 - val_acc: 0.8768 - val_binary_crossentropy: 0.5604\n"
     ]
    },
    {
     "data": {
      "text/plain": [
       "<tensorflow.python.keras._impl.keras.callbacks.History at 0xb21f79f60>"
      ]
     },
     "execution_count": 48,
     "metadata": {},
     "output_type": "execute_result"
    }
   ],
   "source": [
    "tb = keras.callbacks.TensorBoard(log_dir='Graph/over_/dropout')\n",
    "dropout_model.fit(train_data,train_labels,epochs=20,batch_size=512\n",
    "                                  ,validation_data=(test_data,test_labels),verbose=1,callbacks=[tb])"
   ]
  },
  {
   "cell_type": "code",
   "execution_count": null,
   "metadata": {},
   "outputs": [],
   "source": []
  }
 ],
 "metadata": {
  "kernelspec": {
   "display_name": "Python 3",
   "language": "python",
   "name": "python3"
  },
  "language_info": {
   "codemirror_mode": {
    "name": "ipython",
    "version": 3
   },
   "file_extension": ".py",
   "mimetype": "text/x-python",
   "name": "python",
   "nbconvert_exporter": "python",
   "pygments_lexer": "ipython3",
   "version": "3.6.5"
  }
 },
 "nbformat": 4,
 "nbformat_minor": 2
}
